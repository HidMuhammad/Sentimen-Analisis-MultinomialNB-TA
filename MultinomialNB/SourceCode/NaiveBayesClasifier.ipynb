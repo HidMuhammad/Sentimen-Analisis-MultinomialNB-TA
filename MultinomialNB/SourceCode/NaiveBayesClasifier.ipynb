{
 "cells": [
  {
   "cell_type": "code",
   "execution_count": 27,
   "id": "under-acceptance",
   "metadata": {},
   "outputs": [],
   "source": [
    "import numpy as np\n",
    "import pandas as pd\n",
    "import json, nltk\n",
    "import matplotlib.pyplot as plt\n",
    "from wordcloud import WordCloud\n",
    "import seaborn as sns\n",
    "from jcopml.pipeline import num_pipe, cat_pipe\n",
    "import joblib\n",
    "# nltk.download('wordnet')   # for Lemmatization\n",
    "\n",
    "%matplotlib inline"
   ]
  },
  {
   "cell_type": "code",
   "execution_count": 28,
   "id": "legendary-audio",
   "metadata": {},
   "outputs": [],
   "source": [
    "total = pd.read_csv(\"testdatabersihhhh.csv\", encoding=\"utf8\")"
   ]
  },
  {
   "cell_type": "code",
   "execution_count": 29,
   "id": "designed-announcement",
   "metadata": {},
   "outputs": [
    {
     "data": {
      "text/html": [
       "<div>\n",
       "<style scoped>\n",
       "    .dataframe tbody tr th:only-of-type {\n",
       "        vertical-align: middle;\n",
       "    }\n",
       "\n",
       "    .dataframe tbody tr th {\n",
       "        vertical-align: top;\n",
       "    }\n",
       "\n",
       "    .dataframe thead th {\n",
       "        text-align: right;\n",
       "    }\n",
       "</style>\n",
       "<table border=\"1\" class=\"dataframe\">\n",
       "  <thead>\n",
       "    <tr style=\"text-align: right;\">\n",
       "      <th></th>\n",
       "      <th>waktu</th>\n",
       "      <th>filtering</th>\n",
       "      <th>tweets</th>\n",
       "      <th>polarity_score</th>\n",
       "      <th>polarity</th>\n",
       "    </tr>\n",
       "  </thead>\n",
       "  <tbody>\n",
       "    <tr>\n",
       "      <th>0</th>\n",
       "      <td>2022-04-01 07:36:43</td>\n",
       "      <td>['karanganyar', 'jumat', 'april', 'serda', 'ek...</td>\n",
       "      <td>karanganyar jumat april serda eko santoso angg...</td>\n",
       "      <td>-1</td>\n",
       "      <td>0</td>\n",
       "    </tr>\n",
       "    <tr>\n",
       "      <th>1</th>\n",
       "      <td>2022-04-01 07:36:32</td>\n",
       "      <td>['ppkm', 'level', 'kota', 'pekanbaru', 'zona',...</td>\n",
       "      <td>ppkm level kota pekanbaru zona kuning tular covid</td>\n",
       "      <td>-9</td>\n",
       "      <td>0</td>\n",
       "    </tr>\n",
       "    <tr>\n",
       "      <th>2</th>\n",
       "      <td>2022-04-01 07:24:13</td>\n",
       "      <td>['ppkm', 'longgar', '']</td>\n",
       "      <td>ppkm longgar</td>\n",
       "      <td>3</td>\n",
       "      <td>1</td>\n",
       "    </tr>\n",
       "    <tr>\n",
       "      <th>3</th>\n",
       "      <td>2022-04-01 07:21:48</td>\n",
       "      <td>['ppkm', 'aspirasi']</td>\n",
       "      <td>ppkm aspirasi</td>\n",
       "      <td>0</td>\n",
       "      <td>1</td>\n",
       "    </tr>\n",
       "    <tr>\n",
       "      <th>4</th>\n",
       "      <td>2022-04-01 07:19:50</td>\n",
       "      <td>['karanganyar', 'jumat', 'april', 'serda', 'di...</td>\n",
       "      <td>karanganyar jumat april serda didik anggota ko...</td>\n",
       "      <td>-1</td>\n",
       "      <td>0</td>\n",
       "    </tr>\n",
       "  </tbody>\n",
       "</table>\n",
       "</div>"
      ],
      "text/plain": [
       "                 waktu                                          filtering  \\\n",
       "0  2022-04-01 07:36:43  ['karanganyar', 'jumat', 'april', 'serda', 'ek...   \n",
       "1  2022-04-01 07:36:32  ['ppkm', 'level', 'kota', 'pekanbaru', 'zona',...   \n",
       "2  2022-04-01 07:24:13                            ['ppkm', 'longgar', '']   \n",
       "3  2022-04-01 07:21:48                               ['ppkm', 'aspirasi']   \n",
       "4  2022-04-01 07:19:50  ['karanganyar', 'jumat', 'april', 'serda', 'di...   \n",
       "\n",
       "                                              tweets  polarity_score  polarity  \n",
       "0  karanganyar jumat april serda eko santoso angg...              -1         0  \n",
       "1  ppkm level kota pekanbaru zona kuning tular covid              -9         0  \n",
       "2                                      ppkm longgar                3         1  \n",
       "3                                      ppkm aspirasi               0         1  \n",
       "4  karanganyar jumat april serda didik anggota ko...              -1         0  "
      ]
     },
     "execution_count": 29,
     "metadata": {},
     "output_type": "execute_result"
    }
   ],
   "source": [
    "total.head()"
   ]
  },
  {
   "cell_type": "code",
   "execution_count": 30,
   "id": "improving-fountain",
   "metadata": {},
   "outputs": [
    {
     "data": {
      "text/plain": [
       "('tweets', 'filtering')"
      ]
     },
     "execution_count": 30,
     "metadata": {},
     "output_type": "execute_result"
    }
   ],
   "source": [
    "tweet = total.columns.values[2]\n",
    "sentiment = total.columns.values[1]\n",
    "tweet, sentiment\n"
   ]
  },
  {
   "cell_type": "code",
   "execution_count": 31,
   "id": "isolated-transfer",
   "metadata": {},
   "outputs": [
    {
     "data": {
      "text/plain": [
       "0    0.5\n",
       "1    0.5\n",
       "Name: polarity, dtype: float64"
      ]
     },
     "execution_count": 31,
     "metadata": {},
     "output_type": "execute_result"
    }
   ],
   "source": [
    "#balancing dataset\n",
    "data1 = total[total['polarity']==0].sample(796,replace=True)\n",
    "data2 = total[total['polarity']==1].sample(796,replace=True)\n",
    "df=pd.concat([data1, data2])\n",
    "\n",
    "df.shape\n",
    "df['polarity'].value_counts(normalize=True)"
   ]
  },
  {
   "cell_type": "code",
   "execution_count": 32,
   "id": "vulnerable-disability",
   "metadata": {},
   "outputs": [
    {
     "name": "stdout",
     "output_type": "stream",
     "text": [
      "<class 'pandas.core.frame.DataFrame'>\n",
      "RangeIndex: 1594 entries, 0 to 1593\n",
      "Data columns (total 5 columns):\n",
      " #   Column          Non-Null Count  Dtype \n",
      "---  ------          --------------  ----- \n",
      " 0   waktu           1594 non-null   object\n",
      " 1   filtering       1594 non-null   object\n",
      " 2   tweets          1594 non-null   object\n",
      " 3   polarity_score  1594 non-null   int64 \n",
      " 4   polarity        1594 non-null   int64 \n",
      "dtypes: int64(2), object(3)\n",
      "memory usage: 62.4+ KB\n"
     ]
    }
   ],
   "source": [
    "total.info()"
   ]
  },
  {
   "cell_type": "code",
   "execution_count": 33,
   "id": "conventional-major",
   "metadata": {},
   "outputs": [],
   "source": [
    "# import matplotlib.pyplot as plt\n",
    "# fig, ax = plt.subplots(figsize = (4, 4))\n",
    "# sizes = [count for count in df['polarity'].value_counts()]\n",
    "# colors = ['g', 'r']\n",
    "# labels = list(df['polarity'].value_counts().index)\n",
    "# explode = (0, 0)\n",
    "# ax.pie(x = sizes, labels = labels, colors = colors, autopct = '%1.1f%%', explode = explode, textprops={'fontsize':10})\n",
    "# plt.savefig(\"gambar/pembagiandata.jpg\")\n",
    "# plt.show()"
   ]
  },
  {
   "cell_type": "code",
   "execution_count": 34,
   "id": "polish-cornwall",
   "metadata": {},
   "outputs": [],
   "source": [
    "# fitur n-gram\n",
    "from sklearn.feature_extraction.text import CountVectorizer\n",
    "count_vectorizer = CountVectorizer(ngram_range=(1,3),max_features=10000)    # Ngram\n",
    "final_vectorized_data = count_vectorizer.fit_transform(total['tweets'])\n",
    "final_vectorized_data\n",
    "\n",
    "n = pd.DataFrame(final_vectorized_data.toarray(), columns = count_vectorizer.get_feature_names())"
   ]
  },
  {
   "cell_type": "code",
   "execution_count": 35,
   "id": "bored-physics",
   "metadata": {},
   "outputs": [
    {
     "data": {
      "text/html": [
       "<div>\n",
       "<style scoped>\n",
       "    .dataframe tbody tr th:only-of-type {\n",
       "        vertical-align: middle;\n",
       "    }\n",
       "\n",
       "    .dataframe tbody tr th {\n",
       "        vertical-align: top;\n",
       "    }\n",
       "\n",
       "    .dataframe thead th {\n",
       "        text-align: right;\n",
       "    }\n",
       "</style>\n",
       "<table border=\"1\" class=\"dataframe\">\n",
       "  <thead>\n",
       "    <tr style=\"text-align: right;\">\n",
       "      <th></th>\n",
       "      <th>aa</th>\n",
       "      <th>abdul</th>\n",
       "      <th>abdul halim</th>\n",
       "      <th>abdul halim iskandar</th>\n",
       "      <th>abi</th>\n",
       "      <th>absurd</th>\n",
       "      <th>absurd milik</th>\n",
       "      <th>acak</th>\n",
       "      <th>acara</th>\n",
       "      <th>acu</th>\n",
       "      <th>...</th>\n",
       "      <th>zona kuning tular</th>\n",
       "      <th>zona merah</th>\n",
       "      <th>zona merah mbak</th>\n",
       "      <th>zoom</th>\n",
       "      <th>zoom anak</th>\n",
       "      <th>zoom anak curah</th>\n",
       "      <th>zoom bagus</th>\n",
       "      <th>zoom bagus sxexxa</th>\n",
       "      <th>zoom kadang</th>\n",
       "      <th>zoom kadang pas</th>\n",
       "    </tr>\n",
       "  </thead>\n",
       "  <tbody>\n",
       "    <tr>\n",
       "      <th>1</th>\n",
       "      <td>0</td>\n",
       "      <td>0</td>\n",
       "      <td>0</td>\n",
       "      <td>0</td>\n",
       "      <td>0</td>\n",
       "      <td>0</td>\n",
       "      <td>0</td>\n",
       "      <td>0</td>\n",
       "      <td>0</td>\n",
       "      <td>0</td>\n",
       "      <td>...</td>\n",
       "      <td>1</td>\n",
       "      <td>0</td>\n",
       "      <td>0</td>\n",
       "      <td>0</td>\n",
       "      <td>0</td>\n",
       "      <td>0</td>\n",
       "      <td>0</td>\n",
       "      <td>0</td>\n",
       "      <td>0</td>\n",
       "      <td>0</td>\n",
       "    </tr>\n",
       "    <tr>\n",
       "      <th>2</th>\n",
       "      <td>0</td>\n",
       "      <td>0</td>\n",
       "      <td>0</td>\n",
       "      <td>0</td>\n",
       "      <td>0</td>\n",
       "      <td>0</td>\n",
       "      <td>0</td>\n",
       "      <td>0</td>\n",
       "      <td>0</td>\n",
       "      <td>0</td>\n",
       "      <td>...</td>\n",
       "      <td>0</td>\n",
       "      <td>0</td>\n",
       "      <td>0</td>\n",
       "      <td>0</td>\n",
       "      <td>0</td>\n",
       "      <td>0</td>\n",
       "      <td>0</td>\n",
       "      <td>0</td>\n",
       "      <td>0</td>\n",
       "      <td>0</td>\n",
       "    </tr>\n",
       "    <tr>\n",
       "      <th>3</th>\n",
       "      <td>0</td>\n",
       "      <td>0</td>\n",
       "      <td>0</td>\n",
       "      <td>0</td>\n",
       "      <td>0</td>\n",
       "      <td>0</td>\n",
       "      <td>0</td>\n",
       "      <td>0</td>\n",
       "      <td>0</td>\n",
       "      <td>0</td>\n",
       "      <td>...</td>\n",
       "      <td>0</td>\n",
       "      <td>0</td>\n",
       "      <td>0</td>\n",
       "      <td>0</td>\n",
       "      <td>0</td>\n",
       "      <td>0</td>\n",
       "      <td>0</td>\n",
       "      <td>0</td>\n",
       "      <td>0</td>\n",
       "      <td>0</td>\n",
       "    </tr>\n",
       "    <tr>\n",
       "      <th>4</th>\n",
       "      <td>0</td>\n",
       "      <td>0</td>\n",
       "      <td>0</td>\n",
       "      <td>0</td>\n",
       "      <td>0</td>\n",
       "      <td>0</td>\n",
       "      <td>0</td>\n",
       "      <td>0</td>\n",
       "      <td>0</td>\n",
       "      <td>0</td>\n",
       "      <td>...</td>\n",
       "      <td>0</td>\n",
       "      <td>0</td>\n",
       "      <td>0</td>\n",
       "      <td>0</td>\n",
       "      <td>0</td>\n",
       "      <td>0</td>\n",
       "      <td>0</td>\n",
       "      <td>0</td>\n",
       "      <td>0</td>\n",
       "      <td>0</td>\n",
       "    </tr>\n",
       "  </tbody>\n",
       "</table>\n",
       "<p>4 rows × 10000 columns</p>\n",
       "</div>"
      ],
      "text/plain": [
       "   aa  abdul  abdul halim  abdul halim iskandar  abi  absurd  absurd milik  \\\n",
       "1   0      0            0                     0    0       0             0   \n",
       "2   0      0            0                     0    0       0             0   \n",
       "3   0      0            0                     0    0       0             0   \n",
       "4   0      0            0                     0    0       0             0   \n",
       "\n",
       "   acak  acara  acu  ...  zona kuning tular  zona merah  zona merah mbak  \\\n",
       "1     0      0    0  ...                  1           0                0   \n",
       "2     0      0    0  ...                  0           0                0   \n",
       "3     0      0    0  ...                  0           0                0   \n",
       "4     0      0    0  ...                  0           0                0   \n",
       "\n",
       "   zoom  zoom anak  zoom anak curah  zoom bagus  zoom bagus sxexxa  \\\n",
       "1     0          0                0           0                  0   \n",
       "2     0          0                0           0                  0   \n",
       "3     0          0                0           0                  0   \n",
       "4     0          0                0           0                  0   \n",
       "\n",
       "   zoom kadang  zoom kadang pas  \n",
       "1            0                0  \n",
       "2            0                0  \n",
       "3            0                0  \n",
       "4            0                0  \n",
       "\n",
       "[4 rows x 10000 columns]"
      ]
     },
     "execution_count": 35,
     "metadata": {},
     "output_type": "execute_result"
    }
   ],
   "source": [
    "vektor = n\n",
    "vektor[1:5]"
   ]
  },
  {
   "cell_type": "code",
   "execution_count": 36,
   "id": "neutral-carter",
   "metadata": {},
   "outputs": [],
   "source": [
    "# vektor.to_csv('vektor.csv')"
   ]
  },
  {
   "cell_type": "code",
   "execution_count": 37,
   "id": "divine-retreat",
   "metadata": {},
   "outputs": [],
   "source": [
    "from sklearn.model_selection import train_test_split\n",
    "X_train, X_test, y_train, y_test = train_test_split(final_vectorized_data, total[\"polarity\"],test_size=0.1, random_state=43)\n"
   ]
  },
  {
   "cell_type": "code",
   "execution_count": 38,
   "id": "willing-guidance",
   "metadata": {},
   "outputs": [
    {
     "name": "stdout",
     "output_type": "stream",
     "text": [
      "X_train_shape :  (1434, 10000)\n",
      "X_test_shape :  (160, 10000)\n",
      "y_train_shape :  (1434,)\n",
      "y_test_shape :  (160,)\n"
     ]
    }
   ],
   "source": [
    "print(\"X_train_shape : \",X_train.shape)\n",
    "print(\"X_test_shape : \",X_test.shape)\n",
    "print(\"y_train_shape : \",y_train.shape)\n",
    "print(\"y_test_shape : \",y_test.shape)"
   ]
  },
  {
   "cell_type": "code",
   "execution_count": 39,
   "id": "final-population",
   "metadata": {},
   "outputs": [],
   "source": [
    "from sklearn.naive_bayes import MultinomialNB  # Naive Bayes Classifier\n",
    "model_naive = MultinomialNB()\n",
    "model_naive.fit(X_train, y_train) \n",
    "predicted_naive = model_naive.predict(X_test)\n",
    "# print(predicted_naive)"
   ]
  },
  {
   "cell_type": "code",
   "execution_count": 40,
   "id": "stock-program",
   "metadata": {},
   "outputs": [
    {
     "data": {
      "image/png": "[encoded data removed]",
      "text/plain": [
       "<Figure size 792x360 with 2 Axes>"
      ]
     },
     "metadata": {
      "needs_background": "light"
     },
     "output_type": "display_data"
    }
   ],
   "source": [
    "from jcopml.plot import plot_confusion_matrix\n",
    "plot_confusion_matrix(X_train, y_train, X_test, y_test, model_naive)\n",
    "plt.savefig(\"gambar/test_score.png\")"
   ]
  },
  {
   "cell_type": "code",
   "execution_count": 41,
   "id": "fallen-decline",
   "metadata": {},
   "outputs": [
    {
     "data": {
      "image/png": "[encoded data removed]",
      "text/plain": [
       "<Figure size 3600x2400 with 1 Axes>"
      ]
     },
     "metadata": {
      "needs_background": "light"
     },
     "output_type": "display_data"
    }
   ],
   "source": [
    "from sklearn.metrics import confusion_matrix\n",
    "\n",
    "plt.figure(dpi=600)\n",
    "mat = confusion_matrix(y_test, predicted_naive)\n",
    "sns.heatmap(mat.T, annot=True, fmt='d', cbar=False)\n",
    "\n",
    "plt.title('Confusion Matrix for Naive Bayes')\n",
    "plt.xlabel('true label')\n",
    "plt.ylabel('predicted label')\n",
    "plt.savefig(\"gambar/confusion_matrix.png\")\n",
    "plt.show()"
   ]
  },
  {
   "cell_type": "code",
   "execution_count": null,
   "id": "naked-renaissance",
   "metadata": {},
   "outputs": [],
   "source": []
  },
  {
   "cell_type": "code",
   "execution_count": 42,
   "id": "perfect-retail",
   "metadata": {},
   "outputs": [
    {
     "name": "stdout",
     "output_type": "stream",
     "text": [
      "Accuracy with Naive-bayes testing:  0.83125\n"
     ]
    }
   ],
   "source": [
    "from sklearn.metrics import accuracy_score\n",
    "\n",
    "score_naive = accuracy_score(predicted_naive, y_test)\n",
    "print(\"Accuracy with Naive-bayes testing: \",score_naive)"
   ]
  },
  {
   "cell_type": "code",
   "execution_count": 43,
   "id": "embedded-permit",
   "metadata": {},
   "outputs": [
    {
     "name": "stdout",
     "output_type": "stream",
     "text": [
      "              precision    recall  f1-score   support\n",
      "\n",
      "           0       0.86      0.79      0.83        81\n",
      "           1       0.80      0.87      0.84        79\n",
      "\n",
      "    accuracy                           0.83       160\n",
      "   macro avg       0.83      0.83      0.83       160\n",
      "weighted avg       0.83      0.83      0.83       160\n",
      "\n"
     ]
    }
   ],
   "source": [
    "from sklearn.metrics import classification_report\n",
    "print(classification_report(y_test, predicted_naive))"
   ]
  },
  {
   "cell_type": "code",
   "execution_count": 44,
   "id": "irish-contact",
   "metadata": {},
   "outputs": [
    {
     "data": {
      "image/png": "[encoded data removed]",
      "text/plain": [
       "<Figure size 360x240 with 1 Axes>"
      ]
     },
     "metadata": {
      "needs_background": "light"
     },
     "output_type": "display_data"
    }
   ],
   "source": [
    "from sklearn.metrics import roc_curve\n",
    "from sklearn.metrics import auc\n",
    "\n",
    "# calculate the fpr and tpr for all thresholds of the classification\n",
    "probs = model_naive.predict_proba(X_test)\n",
    "preds = probs[:,1]\n",
    "fpr, tpr, threshold = roc_curve(y_test, preds)\n",
    "roc_auc = auc(fpr, tpr)\n",
    "plt.figure(dpi=60)                       # to plot high quality graph\n",
    "plt.title('Receiver Operating Characteristic')\n",
    "plt.plot(fpr, tpr, 'b', label = 'AUC = %0.2f' % roc_auc)\n",
    "plt.legend(loc = 'lower right')\n",
    "plt.plot([0, 1], [0, 1],'r--')\n",
    "plt.ylabel('True Positive Rate', color='g')\n",
    "plt.xlabel('False Positive Rate', color='r')\n",
    "plt.savefig(\"ROC_curve.png\")\n",
    "plt.show()"
   ]
  },
  {
   "cell_type": "code",
   "execution_count": 20,
   "id": "gorgeous-weight",
   "metadata": {},
   "outputs": [
    {
     "data": {
      "text/html": [
       "<div>\n",
       "<style scoped>\n",
       "    .dataframe tbody tr th:only-of-type {\n",
       "        vertical-align: middle;\n",
       "    }\n",
       "\n",
       "    .dataframe tbody tr th {\n",
       "        vertical-align: top;\n",
       "    }\n",
       "\n",
       "    .dataframe thead th {\n",
       "        text-align: right;\n",
       "    }\n",
       "</style>\n",
       "<table border=\"1\" class=\"dataframe\">\n",
       "  <thead>\n",
       "    <tr style=\"text-align: right;\">\n",
       "      <th></th>\n",
       "      <th>waktu</th>\n",
       "      <th>stemming</th>\n",
       "      <th>tweets</th>\n",
       "    </tr>\n",
       "  </thead>\n",
       "  <tbody>\n",
       "    <tr>\n",
       "      <th>0</th>\n",
       "      <td>2022-12-22 06:13:47</td>\n",
       "      <td>['yang', 'jalan', 'dalam', 'bijak', 'laku', 'b...</td>\n",
       "      <td>yang jalan dalam bijak laku batas giat masyara...</td>\n",
       "    </tr>\n",
       "    <tr>\n",
       "      <th>1</th>\n",
       "      <td>2022-12-22 04:11:00</td>\n",
       "      <td>['presiden', 'isyarat', 'mungkin', 'laku', 'ba...</td>\n",
       "      <td>presiden isyarat mungkin laku batas giat masya...</td>\n",
       "    </tr>\n",
       "    <tr>\n",
       "      <th>2</th>\n",
       "      <td>2022-12-22 03:21:09</td>\n",
       "      <td>['presiden', 'joko', 'widodo', 'jokowi', 'bebe...</td>\n",
       "      <td>presiden joko widodo jokowi beber bahwan kasus...</td>\n",
       "    </tr>\n",
       "    <tr>\n",
       "      <th>3</th>\n",
       "      <td>2022-12-21 23:25:11</td>\n",
       "      <td>['presiden', 'joko', 'widodo', 'jokowi', 'renc...</td>\n",
       "      <td>presiden joko widodo jokowi rencana henti bija...</td>\n",
       "    </tr>\n",
       "    <tr>\n",
       "      <th>4</th>\n",
       "      <td>2022-12-21 15:29:15</td>\n",
       "      <td>['presiden', 'joko', 'widodo', 'jokowi', 'beri...</td>\n",
       "      <td>presiden joko widodo jokowi beri sinyal akan h...</td>\n",
       "    </tr>\n",
       "    <tr>\n",
       "      <th>...</th>\n",
       "      <td>...</td>\n",
       "      <td>...</td>\n",
       "      <td>...</td>\n",
       "    </tr>\n",
       "    <tr>\n",
       "      <th>639</th>\n",
       "      <td>2022-12-21 08:32:57</td>\n",
       "      <td>['good', 'news', 'akhir', 'tahun', 'ppkm', 'ak...</td>\n",
       "      <td>good news akhir tahun ppkm akhir akan henti ba...</td>\n",
       "    </tr>\n",
       "    <tr>\n",
       "      <th>640</th>\n",
       "      <td>2022-12-21 08:32:46</td>\n",
       "      <td>['status', 'pandemi', 'jokowi', 'menteri', 'se...</td>\n",
       "      <td>status pandemi jokowi menteri selesai kaji hen...</td>\n",
       "    </tr>\n",
       "    <tr>\n",
       "      <th>641</th>\n",
       "      <td>2022-12-21 08:32:06</td>\n",
       "      <td>['belakang', 'ini', 'kasus', 'hari', 'ada', 'd...</td>\n",
       "      <td>belakang ini kasus hari ada di angka dan mungk...</td>\n",
       "    </tr>\n",
       "    <tr>\n",
       "      <th>642</th>\n",
       "      <td>2022-12-21 08:31:39</td>\n",
       "      <td>['jadi', 'tahun', 'baru', 'tgl', 'untuk', 'ray...</td>\n",
       "      <td>jadi tahun baru tgl untuk raya menang ganti sa...</td>\n",
       "    </tr>\n",
       "    <tr>\n",
       "      <th>643</th>\n",
       "      <td>2022-12-21 08:25:16</td>\n",
       "      <td>['ppkm', 'akan', 'segera', 'hapus', 'menko', '...</td>\n",
       "      <td>ppkm akan segera hapus menko airlangga pandemi...</td>\n",
       "    </tr>\n",
       "  </tbody>\n",
       "</table>\n",
       "<p>644 rows × 3 columns</p>\n",
       "</div>"
      ],
      "text/plain": [
       "                   waktu                                           stemming  \\\n",
       "0    2022-12-22 06:13:47  ['yang', 'jalan', 'dalam', 'bijak', 'laku', 'b...   \n",
       "1    2022-12-22 04:11:00  ['presiden', 'isyarat', 'mungkin', 'laku', 'ba...   \n",
       "2    2022-12-22 03:21:09  ['presiden', 'joko', 'widodo', 'jokowi', 'bebe...   \n",
       "3    2022-12-21 23:25:11  ['presiden', 'joko', 'widodo', 'jokowi', 'renc...   \n",
       "4    2022-12-21 15:29:15  ['presiden', 'joko', 'widodo', 'jokowi', 'beri...   \n",
       "..                   ...                                                ...   \n",
       "639  2022-12-21 08:32:57  ['good', 'news', 'akhir', 'tahun', 'ppkm', 'ak...   \n",
       "640  2022-12-21 08:32:46  ['status', 'pandemi', 'jokowi', 'menteri', 'se...   \n",
       "641  2022-12-21 08:32:06  ['belakang', 'ini', 'kasus', 'hari', 'ada', 'd...   \n",
       "642  2022-12-21 08:31:39  ['jadi', 'tahun', 'baru', 'tgl', 'untuk', 'ray...   \n",
       "643  2022-12-21 08:25:16  ['ppkm', 'akan', 'segera', 'hapus', 'menko', '...   \n",
       "\n",
       "                                                tweets  \n",
       "0    yang jalan dalam bijak laku batas giat masyara...  \n",
       "1    presiden isyarat mungkin laku batas giat masya...  \n",
       "2    presiden joko widodo jokowi beber bahwan kasus...  \n",
       "3    presiden joko widodo jokowi rencana henti bija...  \n",
       "4    presiden joko widodo jokowi beri sinyal akan h...  \n",
       "..                                                 ...  \n",
       "639  good news akhir tahun ppkm akhir akan henti ba...  \n",
       "640  status pandemi jokowi menteri selesai kaji hen...  \n",
       "641  belakang ini kasus hari ada di angka dan mungk...  \n",
       "642  jadi tahun baru tgl untuk raya menang ganti sa...  \n",
       "643  ppkm akan segera hapus menko airlangga pandemi...  \n",
       "\n",
       "[644 rows x 3 columns]"
      ]
     },
     "execution_count": 20,
     "metadata": {},
     "output_type": "execute_result"
    }
   ],
   "source": [
    "#ANALISIS menggunakan MODEL yang dibuat, menggunakan data baru\n",
    "mentah = pd.read_csv(\"duabersih.csv\", encoding=\"utf8\")\n",
    "mentah"
   ]
  },
  {
   "cell_type": "code",
   "execution_count": 21,
   "id": "senior-voltage",
   "metadata": {},
   "outputs": [
    {
     "data": {
      "text/html": [
       "<div>\n",
       "<style scoped>\n",
       "    .dataframe tbody tr th:only-of-type {\n",
       "        vertical-align: middle;\n",
       "    }\n",
       "\n",
       "    .dataframe tbody tr th {\n",
       "        vertical-align: top;\n",
       "    }\n",
       "\n",
       "    .dataframe thead th {\n",
       "        text-align: right;\n",
       "    }\n",
       "</style>\n",
       "<table border=\"1\" class=\"dataframe\">\n",
       "  <thead>\n",
       "    <tr style=\"text-align: right;\">\n",
       "      <th></th>\n",
       "      <th>waktu</th>\n",
       "      <th>tweets</th>\n",
       "      <th>Sentiment</th>\n",
       "    </tr>\n",
       "  </thead>\n",
       "  <tbody>\n",
       "    <tr>\n",
       "      <th>0</th>\n",
       "      <td>2022-12-22 06:13:47</td>\n",
       "      <td>yang jalan dalam bijak laku batas giat masyara...</td>\n",
       "      <td>0</td>\n",
       "    </tr>\n",
       "    <tr>\n",
       "      <th>1</th>\n",
       "      <td>2022-12-22 04:11:00</td>\n",
       "      <td>presiden isyarat mungkin laku batas giat masya...</td>\n",
       "      <td>0</td>\n",
       "    </tr>\n",
       "    <tr>\n",
       "      <th>2</th>\n",
       "      <td>2022-12-22 03:21:09</td>\n",
       "      <td>presiden joko widodo jokowi beber bahwan kasus...</td>\n",
       "      <td>0</td>\n",
       "    </tr>\n",
       "    <tr>\n",
       "      <th>3</th>\n",
       "      <td>2022-12-21 23:25:11</td>\n",
       "      <td>presiden joko widodo jokowi rencana henti bija...</td>\n",
       "      <td>1</td>\n",
       "    </tr>\n",
       "    <tr>\n",
       "      <th>4</th>\n",
       "      <td>2022-12-21 15:29:15</td>\n",
       "      <td>presiden joko widodo jokowi beri sinyal akan h...</td>\n",
       "      <td>1</td>\n",
       "    </tr>\n",
       "    <tr>\n",
       "      <th>...</th>\n",
       "      <td>...</td>\n",
       "      <td>...</td>\n",
       "      <td>...</td>\n",
       "    </tr>\n",
       "    <tr>\n",
       "      <th>639</th>\n",
       "      <td>2022-12-21 08:32:57</td>\n",
       "      <td>good news akhir tahun ppkm akhir akan henti ba...</td>\n",
       "      <td>1</td>\n",
       "    </tr>\n",
       "    <tr>\n",
       "      <th>640</th>\n",
       "      <td>2022-12-21 08:32:46</td>\n",
       "      <td>status pandemi jokowi menteri selesai kaji hen...</td>\n",
       "      <td>1</td>\n",
       "    </tr>\n",
       "    <tr>\n",
       "      <th>641</th>\n",
       "      <td>2022-12-21 08:32:06</td>\n",
       "      <td>belakang ini kasus hari ada di angka dan mungk...</td>\n",
       "      <td>1</td>\n",
       "    </tr>\n",
       "    <tr>\n",
       "      <th>642</th>\n",
       "      <td>2022-12-21 08:31:39</td>\n",
       "      <td>jadi tahun baru tgl untuk raya menang ganti sa...</td>\n",
       "      <td>1</td>\n",
       "    </tr>\n",
       "    <tr>\n",
       "      <th>643</th>\n",
       "      <td>2022-12-21 08:25:16</td>\n",
       "      <td>ppkm akan segera hapus menko airlangga pandemi...</td>\n",
       "      <td>1</td>\n",
       "    </tr>\n",
       "  </tbody>\n",
       "</table>\n",
       "<p>644 rows × 3 columns</p>\n",
       "</div>"
      ],
      "text/plain": [
       "                   waktu                                             tweets  \\\n",
       "0    2022-12-22 06:13:47  yang jalan dalam bijak laku batas giat masyara...   \n",
       "1    2022-12-22 04:11:00  presiden isyarat mungkin laku batas giat masya...   \n",
       "2    2022-12-22 03:21:09  presiden joko widodo jokowi beber bahwan kasus...   \n",
       "3    2022-12-21 23:25:11  presiden joko widodo jokowi rencana henti bija...   \n",
       "4    2022-12-21 15:29:15  presiden joko widodo jokowi beri sinyal akan h...   \n",
       "..                   ...                                                ...   \n",
       "639  2022-12-21 08:32:57  good news akhir tahun ppkm akhir akan henti ba...   \n",
       "640  2022-12-21 08:32:46  status pandemi jokowi menteri selesai kaji hen...   \n",
       "641  2022-12-21 08:32:06  belakang ini kasus hari ada di angka dan mungk...   \n",
       "642  2022-12-21 08:31:39  jadi tahun baru tgl untuk raya menang ganti sa...   \n",
       "643  2022-12-21 08:25:16  ppkm akan segera hapus menko airlangga pandemi...   \n",
       "\n",
       "     Sentiment  \n",
       "0            0  \n",
       "1            0  \n",
       "2            0  \n",
       "3            1  \n",
       "4            1  \n",
       "..         ...  \n",
       "639          1  \n",
       "640          1  \n",
       "641          1  \n",
       "642          1  \n",
       "643          1  \n",
       "\n",
       "[644 rows x 3 columns]"
      ]
     },
     "execution_count": 21,
     "metadata": {},
     "output_type": "execute_result"
    }
   ],
   "source": [
    "#analisis data\n",
    "def TestModel(data):\n",
    "    X_vect = CountVectorizer(ngram_range=(1,3),max_features=6000)\n",
    "    final_vectorized_data = X_vect.fit_transform(mentah['tweets']) \n",
    "    std_predictions = model_naive.predict(final_vectorized_data)\n",
    "    df = pd.DataFrame(data = {'waktu': mentah['waktu'],'tweets': mentah['tweets'], 'Sentiment': std_predictions })\n",
    "    return df\n",
    "TestModel(mentah['tweets'])"
   ]
  },
  {
   "cell_type": "code",
   "execution_count": 22,
   "id": "buried-retro",
   "metadata": {},
   "outputs": [],
   "source": [
    "TestModel(mentah).to_csv('duabersih.csv',encoding='utf8', index=False)"
   ]
  },
  {
   "cell_type": "code",
   "execution_count": 23,
   "id": "sufficient-inflation",
   "metadata": {},
   "outputs": [],
   "source": [
    "Anal = pd.read_csv(\"duabersih.csv\", encoding=\"utf8\")"
   ]
  },
  {
   "cell_type": "code",
   "execution_count": 24,
   "id": "statewide-turner",
   "metadata": {},
   "outputs": [
    {
     "data": {
      "text/plain": [
       "1    457\n",
       "0    187\n",
       "Name: Sentiment, dtype: int64"
      ]
     },
     "execution_count": 24,
     "metadata": {},
     "output_type": "execute_result"
    }
   ],
   "source": [
    "Anal['Sentiment'].value_counts()"
   ]
  },
  {
   "cell_type": "code",
   "execution_count": 25,
   "id": "confident-thompson",
   "metadata": {},
   "outputs": [],
   "source": [
    "def polarity_encode(x):\n",
    "    if(x == 1):\n",
    "        return 'Positif'\n",
    "    if(x == 0):\n",
    "        return 'Negatif'\n",
    "Anal.Sentiment = Anal.Sentiment.apply(polarity_encode)"
   ]
  },
  {
   "cell_type": "code",
   "execution_count": 26,
   "id": "pregnant-virtue",
   "metadata": {},
   "outputs": [
    {
     "data": {
      "image/png": "[encoded data removed]",
      "text/plain": [
       "<Figure size 288x288 with 1 Axes>"
      ]
     },
     "metadata": {},
     "output_type": "display_data"
    }
   ],
   "source": [
    "import matplotlib.pyplot as plt\n",
    "fig, ax = plt.subplots(figsize = (4, 4))\n",
    "sizes = [count for count in Anal['Sentiment'].value_counts()]\n",
    "labels = list(Anal['Sentiment'].value_counts().index)\n",
    "colors = ['g', 'r']\n",
    "explode = (0, 0)\n",
    "ax.pie(x = sizes, labels = labels, colors = colors, autopct = '%1.1f%%', explode = explode, textprops={'fontsize':10})\n",
    "plt.savefig(\"gambar/Analisis.jpg\")\n",
    "plt.show()"
   ]
  },
  {
   "cell_type": "code",
   "execution_count": null,
   "id": "printable-shield",
   "metadata": {},
   "outputs": [],
   "source": []
  }
 ],
 "metadata": {
  "kernelspec": {
   "display_name": "Python 3",
   "language": "python",
   "name": "python3"
  },
  "language_info": {
   "codemirror_mode": {
    "name": "ipython",
    "version": 3
   },
   "file_extension": ".py",
   "mimetype": "text/x-python",
   "name": "python",
   "nbconvert_exporter": "python",
   "pygments_lexer": "ipython3",
   "version": "3.9.2"
  }
 },
 "nbformat": 4,
 "nbformat_minor": 5
}
